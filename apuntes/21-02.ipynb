{
 "cells": [
  {
   "cell_type": "code",
   "execution_count": 9,
   "metadata": {},
   "outputs": [
    {
     "name": "stdout",
     "output_type": "stream",
     "text": [
      "Error MAE: 52.26 (puntos de progresión)\n",
      "R²: 0.23\n",
      "RMSE: 63.73\n",
      "MAPE: 45.88%\n",
      "                            OLS Regression Results                            \n",
      "==============================================================================\n",
      "Dep. Variable:            Progression   R-squared:                       0.366\n",
      "Model:                            OLS   Adj. R-squared:                  0.364\n",
      "Method:                 Least Squares   F-statistic:                     202.4\n",
      "Date:                Fri, 21 Feb 2025   Prob (F-statistic):           1.40e-36\n",
      "Time:                        19:03:55   Log-Likelihood:                -1958.2\n",
      "No. Observations:                 353   AIC:                             3920.\n",
      "Df Residuals:                     351   BIC:                             3928.\n",
      "Df Model:                           1                                         \n",
      "Covariance Type:            nonrobust                                         \n",
      "==============================================================================\n",
      "                 coef    std err          t      P>|t|      [0.025      0.975]\n",
      "------------------------------------------------------------------------------\n",
      "const        152.0034      3.316     45.841      0.000     145.482     158.525\n",
      "bmi          998.5777     70.192     14.226      0.000     860.527    1136.628\n",
      "==============================================================================\n",
      "Omnibus:                        8.367   Durbin-Watson:                   1.786\n",
      "Prob(Omnibus):                  0.015   Jarque-Bera (JB):                5.093\n",
      "Skew:                           0.108   Prob(JB):                       0.0783\n",
      "Kurtosis:                       2.453   Cond. No.                         21.2\n",
      "==============================================================================\n",
      "\n",
      "Notes:\n",
      "[1] Standard Errors assume that the covariance matrix of the errors is correctly specified.\n"
     ]
    }
   ],
   "source": [
    "import numpy as np, pandas as pd\n",
    "from sklearn.metrics import mean_absolute_error\n",
    "from sklearn.model_selection import train_test_split\n",
    "from sklearn.datasets import load_diabetes\n",
    "from sklearn.linear_model import LinearRegression\n",
    "import statsmodels.api as sm\n",
    "\n",
    "# Cargar el dataset de Diabetes\n",
    "diabetes = load_diabetes()\n",
    "df = pd.DataFrame(diabetes.data, columns=diabetes.feature_names)\n",
    "df[\"Progression\"] = diabetes.target  \n",
    "\n",
    "X = df[['bmi']]  \n",
    "y = df['Progression']\n",
    "\n",
    "X_train, X_test, y_train, y_test = train_test_split(X, y, test_size=0.2, random_state=42)\n",
    "\n",
    "modelo = LinearRegression()\n",
    "modelo.fit(X_train, y_train)\n",
    "\n",
    "y_pred = modelo.predict(X_test)\n",
    "\n",
    "mae = mean_absolute_error(y_test, y_pred)\n",
    "print(f\"Error MAE: {mae:.2f} (puntos de progresión)\")\n",
    "\n",
    "from sklearn.metrics import r2_score\n",
    "\n",
    "r2 = r2_score(y_test, y_pred)\n",
    "print(f\"R²: {r2:.2f}\")\n",
    "\n",
    "from sklearn.metrics import mean_squared_error\n",
    "rmse = np.sqrt(mean_squared_error(y_test, y_pred))\n",
    "print(f\"RMSE: {rmse:.2f}\")\n",
    "\n",
    "mape = np.mean(np.abs((y_test - y_pred) / y_test)) * 100\n",
    "print(f\"MAPE: {mape:.2f}%\")\n",
    "\n",
    "\n",
    "X_train_const = sm.add_constant(X_train)  # Agregar término de intercepto\n",
    "modelo_stats = sm.OLS(y_train, X_train_const).fit()\n",
    "\n",
    "print(modelo_stats.summary())\n"
   ]
  },
  {
   "cell_type": "markdown",
   "metadata": {},
   "source": [
    "## Outliers. Cómo hacer un boxplot (herramienta visual para detectar outliers)"
   ]
  },
  {
   "cell_type": "code",
   "execution_count": 10,
   "metadata": {},
   "outputs": [
    {
     "data": {
      "image/png": "[encoded data removed]",
      "text/plain": [
       "<Figure size 800x400 with 1 Axes>"
      ]
     },
     "metadata": {},
     "output_type": "display_data"
    }
   ],
   "source": [
    "import numpy as np\n",
    "import pandas as pd\n",
    "import seaborn as sns\n",
    "import matplotlib.pyplot as plt\n",
    "\n",
    "# Generamos datos con algunos valores atípicos\n",
    "np.random.seed(42)\n",
    "valores_normales = np.random.normal(loc=50, scale=10, size=100)  # Datos alrededor de 50\n",
    "outliers = np.array([10, 5, 120, 130])  # Valores atípicos extremos\n",
    "\n",
    "# Combinamos los datos en un DataFrame\n",
    "df = pd.DataFrame({'valores': np.concatenate([valores_normales, outliers])})\n",
    "\n",
    "# Creamos el Boxplot\n",
    "plt.figure(figsize=(8, 4))\n",
    "sns.boxplot(x=df['valores']) #df['valores'] es una columna de un DataFrame que contiene los datos que queremos analizar.\n",
    "\n",
    "# Mostramos el gráfico\n",
    "plt.show()"
   ]
  },
  {
   "cell_type": "code",
   "execution_count": 19,
   "metadata": {},
   "outputs": [
    {
     "name": "stdout",
     "output_type": "stream",
     "text": [
      "Valores atípicos detectados:\n",
      "      valores   z_score\n",
      "100    120.0  5.023242\n",
      "101    130.0  5.745517\n",
      "Empty DataFrame\n",
      "Columns: [valores, z_score]\n",
      "Index: []\n"
     ]
    }
   ],
   "source": [
    "from scipy.stats import zscore\n",
    "\n",
    "# Crear datos de ejemplo\n",
    "np.random.seed(42)\n",
    "data = np.random.normal(loc=50, scale=10, size=100)  # Datos con distribución normal\n",
    "data = np.append(data, [120, 130])  # Agregar outliers artificiales\n",
    "df = pd.DataFrame({'valores': data})\n",
    "\n",
    "# Calcular el Z-score\n",
    "df['z_score'] = zscore(df['valores'])\n",
    "\n",
    "# Filtrar los outliers\n",
    "outliers = df[df['z_score'].abs() > 3] # Se considera outlier cuando Z-score es > 3 o < -3, porque cualquier valor más allá de ±3 desviaciones estándar es extremadamente raro.\n",
    "\n",
    "# Filtrar outliers poisitivos y negativos\n",
    "outliers_positivos = df[df['z_score'] > 3]   # Solo valores muy altos\n",
    "outliers_negativos = df[df['z_score'] < -3]  # Solo valores muy bajos\n",
    "\n",
    "\n",
    "print(\"Valores atípicos detectados:\\n\", outliers)\n",
    "print(outliers_negativos)"
   ]
  },
  {
   "cell_type": "markdown",
   "metadata": {},
   "source": [
    "Usaremos IQR si hay muchos outliers o si los datos tienen una distribución asimétrica."
   ]
  },
  {
   "cell_type": "code",
   "execution_count": 14,
   "metadata": {},
   "outputs": [
    {
     "name": "stdout",
     "output_type": "stream",
     "text": [
      "Outliers encontrados:\n",
      "         valores   z_score\n",
      "74    23.802549 -1.924858\n",
      "100  120.000000  5.023242\n",
      "101  130.000000  5.745517\n"
     ]
    }
   ],
   "source": [
    "import numpy as np\n",
    "\n",
    "# Calcular cuartiles\n",
    "Q1 = np.percentile(df['valores'], 25)  # Primer cuartil (Q1)\n",
    "Q3 = np.percentile(df['valores'], 75)  # Tercer cuartil (Q3)\n",
    "IQR = Q3 - Q1  # Rango intercuartil\n",
    "\n",
    "# Definir límites para detectar outliers\n",
    "limite_inferior = Q1 - 1.5 * IQR\n",
    "limite_superior = Q3 + 1.5 * IQR\n",
    "\n",
    "# Filtrar outliers\n",
    "outliers = df[(df['valores'] < limite_inferior) | (df['valores'] > limite_superior)]\n",
    "print(\"Outliers encontrados:\\n\", outliers) # Los valores que están fuera del rango [Q1 - 1.5*IQR, Q3 + 1.5*IQR] se consideran outliers.\n"
   ]
  },
  {
   "cell_type": "code",
   "execution_count": null,
   "metadata": {},
   "outputs": [],
   "source": [
    "# Identifica outliers en los siguientes dataset: DIAMONDS, DIABETES, CALIFORNIA HOUSING\n",
    "\n"
   ]
  }
 ],
 "metadata": {
  "kernelspec": {
   "display_name": ".venv",
   "language": "python",
   "name": "python3"
  },
  "language_info": {
   "codemirror_mode": {
    "name": "ipython",
    "version": 3
   },
   "file_extension": ".py",
   "mimetype": "text/x-python",
   "name": "python",
   "nbconvert_exporter": "python",
   "pygments_lexer": "ipython3",
   "version": "3.10.0"
  }
 },
 "nbformat": 4,
 "nbformat_minor": 2
}
