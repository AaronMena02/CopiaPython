{
 "cells": [
  {
   "cell_type": "markdown",
   "metadata": {},
   "source": [
    "## **Arrays en Numpy**"
   ]
  },
  {
   "cell_type": "code",
   "execution_count": 40,
   "metadata": {},
   "outputs": [
    {
     "name": "stdout",
     "output_type": "stream",
     "text": [
      "Rango array: [0 1 2 3 4]\n",
      "Rango específico array: [2 3 4 5 6 7 8 9]\n",
      "Array con paso personalizado: [0 2 4 6 8]\n",
      "Array con paso decimal: [0.  0.2 0.4 0.6 0.8]\n",
      "Array en orden inverso: [10  9  8  7  6  5  4  3  2  1]\n",
      "\n",
      "Array de números aleatorios:\n",
      " [[0.44690161 0.97799527]\n",
      " [0.64701594 0.12144132]]\n",
      "Array de números aleatorios enteros:\n",
      " [[1 3 0]\n",
      " [2 5 4]]\n",
      "Array con valores espaciados [0.   0.25 0.5  0.75 1.  ]\n",
      "Array reshape (2x6):\n",
      " [[ 0  1  2  3  4  5]\n",
      " [ 6  7  8  9 10 11]]\n",
      "Array aplanado: [ 0  1  2  3  4  5  6  7  8  9 10 11]\n",
      "Array transpuesto:\n",
      " [[ 0  6]\n",
      " [ 1  7]\n",
      " [ 2  8]\n",
      " [ 3  9]\n",
      " [ 4 10]\n",
      " [ 5 11]]\n"
     ]
    }
   ],
   "source": [
    "import numpy as np\n",
    "\n",
    "#np.arange\n",
    "rango_array = np.arange(5)\n",
    "print(\"Rango array:\", rango_array)\n",
    "print(\"Rango específico array:\", np.arange(2, 10)) #Incluye el primer elemento y excluye el segundo\n",
    "print(\"Array con paso personalizado:\", np.arange(0, 10, 2)) #Empieza del 0, sin incluir el 10, con salto de 2\n",
    "print(\"Array con paso decimal:\", np.arange(0, 1, 0.2))\n",
    "print(\"Array en orden inverso:\", np.arange(10, 0, -1))\n",
    "\n",
    "# Array de números aleatorios\n",
    "random_array = np.random.random((2, 2)) #Con random, valores entre 0 y 1 y hay que especificar dimensiones entre paréntesis \n",
    "print(\"\\nArray de números aleatorios:\\n\", random_array)\n",
    "random_array_argumentos = np.random.rand(2, 3) #Es igual pero las dimensiones se pasan como parámetros\n",
    "\n",
    "# Array de números aleatorios enteros\n",
    "random_int_array = np.random.randint(0, 10, (2, 3)) #np.random.randint(0, 10, size=(2, 3)). No incluiría el 10\n",
    "print(\"Array de números aleatorios enteros:\\n\", random_int_array)\n",
    "\n",
    "# Array con valores espaciados\n",
    "linspace_arr = np.linspace(0, 1, 5) # Empieza en 0, termina en 1, con 5 puntos en total\n",
    "print(\"Array con valores espaciados\", linspace_arr)\n",
    "\n",
    "array = np.arange(12)  # [0, 1, ..., 11]\n",
    "reshaped = array.reshape(2, 6) #Convierte el array unidimensional en una matriz 2x6\n",
    "print(\"Array reshape (2x6):\\n\", reshaped)\n",
    "\n",
    "# Convertir a 1D\n",
    "flattened = reshaped.ravel()\n",
    "print(\"Array aplanado:\", flattened)\n",
    "\n",
    "# Transponer el array\n",
    "transposed = reshaped.T #Transpone la matriz 2x6 intercambiando filas por columnas. Lo que estaba en horizontal pasa a estar en vertical y viceversa.\n",
    "print(\"Array transpuesto:\\n\", transposed)\n",
    "  "
   ]
  },
  {
   "cell_type": "markdown",
   "metadata": {},
   "source": [
    "### **Indexación de Arrays**"
   ]
  },
  {
   "cell_type": "code",
   "execution_count": null,
   "metadata": {},
   "outputs": [
    {
     "name": "stdout",
     "output_type": "stream",
     "text": [
      "1\n",
      "6\n",
      "9\n",
      "[1 2 3]\n",
      "[2 5 8]\n"
     ]
    }
   ],
   "source": [
    "arr_2d = np.array([[1, 2, 3], \n",
    "                   [4, 5, 6],\n",
    "                   [7, 8, 9]])\n",
    "\n",
    "# Indexación en un array 2D\n",
    "print(arr_2d[0, 0]) # Elemento de la primera fila, primera columna\n",
    "print(arr_2d[1, 2]) # Elemento de la segunda fila, tercera columna\n",
    "print(arr_2d[-1, -1]) # Último elemento de la última fila\n",
    "\n",
    "# Selección de filas y columnas en un array 2D \n",
    "print(arr_2d[0, :]) # Primera fila, todas las columnas\n",
    "print(arr_2d[:, 1]) # Segunda columna, todas las filas"
   ]
  },
  {
   "cell_type": "markdown",
   "metadata": {},
   "source": [
    "### **Slicing de Arrays**"
   ]
  },
  {
   "cell_type": "code",
   "execution_count": null,
   "metadata": {},
   "outputs": [
    {
     "name": "stdout",
     "output_type": "stream",
     "text": [
      "Slice [2:6]: [2 3 4 5]\n",
      "Slice [::2]: [0 2 4 6 8]\n",
      "Slice de las primeras dos filas y dos columnas:\n",
      " [[1 2]\n",
      " [4 5]]\n",
      "\\Primera dimensión:\n",
      " [[1 2 3]\n",
      " [4 5 6]\n",
      " [7 8 9]]\n",
      "\n",
      "Primera fila de cada bloque:\n",
      " [[ 1  2  3]\n",
      " [10 11 12]\n",
      " [19 20 21]]\n",
      "\n",
      "Primera columna de cada bloque:\n",
      " [[ 1  4  7]\n",
      " [10 13 16]\n",
      " [19 22 25]]\n",
      "\n",
      "Elemento en (2, 1, 2): 24\n"
     ]
    }
   ],
   "source": [
    "array = np.arange(10)  # [0, 1, 2, 3, 4, 5, 6, 7, 8, 9]\n",
    "\n",
    "print(\"Slice [2:6]:\", array[2:6]) #Empieza por el elemento[2] del array, y acaba en el elemento [6] excluyéndolo.\n",
    "\n",
    "# Slice con un paso de 2\n",
    "print(\"Slice [::2]:\", array[::2]) #Empieza en el principio, llega hasta el final, y salta de 2 en 2 -> [0, 2, 4, 6, 8]\n",
    "\n",
    "array_2d = np.array([[1, 2, 3], [4, 5, 6], [7, 8, 9]])\n",
    "print(\"Slice de las primeras dos filas y dos columnas:\\n\", array_2d[:2, :2]) #Desde el principio hasta el elemento [2] en las filas, y luego igual sobre las columnas de esas filas. \n",
    "\n",
    "array_3d = np.array([\n",
    "    [[1, 2, 3], [4, 5, 6], [7, 8, 9]],  #Dimensión 0\n",
    "    [[10, 11, 12], [13, 14, 15], [16, 17, 18]], #Dimensión 1\n",
    "    [[19, 20, 21], [22, 23, 24], [25, 26, 27]] #Dimensión 2\n",
    "])\n",
    "print(\"\\Primera dimensión:\\n\", array_3d[0])\n",
    "\n",
    "# Slice: Seleccionar la primera fila de cada bloque\n",
    "print(\"\\nPrimera fila de cada bloque:\\n\", array_3d[:, 0, :]) #:Selecciona todos los bloques, 0 selecciona la primera fila de cada bloque, : selecciona todas las columnas.\n",
    "\n",
    "# Slice: Seleccionar la primera columna de cada bloque\n",
    "print(\"\\nPrimera columna de cada bloque:\\n\", array_3d[:, :, 0])\n",
    "\n",
    "# Slice: Seleccionar un elemento específico (bloque 2, fila 1, columna 2)\n",
    "print(\"\\nElemento en (2, 1, 2):\", array_3d[2, 1, 2])  # 24\n"
   ]
  }
 ],
 "metadata": {
  "kernelspec": {
   "display_name": ".venv",
   "language": "python",
   "name": "python3"
  },
  "language_info": {
   "codemirror_mode": {
    "name": "ipython",
    "version": 3
   },
   "file_extension": ".py",
   "mimetype": "text/x-python",
   "name": "python",
   "nbconvert_exporter": "python",
   "pygments_lexer": "ipython3",
   "version": "3.10.0"
  }
 },
 "nbformat": 4,
 "nbformat_minor": 2
}
