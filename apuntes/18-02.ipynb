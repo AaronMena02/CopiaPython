{
 "cells": [
  {
   "cell_type": "code",
   "execution_count": null,
   "metadata": {},
   "outputs": [],
   "source": [
    "import pandas as pd"
   ]
  },
  {
   "cell_type": "code",
   "execution_count": 5,
   "metadata": {},
   "outputs": [
    {
     "name": "stdout",
     "output_type": "stream",
     "text": [
      "Localizando una celda específica por su etiqueta: \n",
      " orderIdentifier                                             100044355\n",
      "orderType                                                    OUTBOUND\n",
      "vendor.organizationIdentifier                               LightTree\n",
      "buyer.organizationIdentifier                                     AHTD\n",
      "shipFromInstructionLocation.locationIdentifier                   LT-1\n",
      "shipToLocation.locationIdentifier                  AHTD - Bentonville\n",
      "orderStatus                                                       NaN\n",
      "createdDate                                       2021-06-08T00:00:00\n",
      "requestedShipDate                                 2021-06-30T00:00:00\n",
      "requestedDeliveryDate                             2021-07-07T00:00:00\n",
      "plannedShipDate                                   2021-06-30T00:00:00\n",
      "plannedDeliveryDate                               2021-07-07T00:00:00\n",
      "quantity                                                          400\n",
      "quantityUnits                                                      EA\n",
      "totalValue                                                   500000.0\n",
      "orderValueCurrency                                                USD\n",
      "lineCount                                                           3\n",
      "totalShippedQuantity                                              NaN\n",
      "exclude                                                           NaN\n",
      "Name: http://lighttree.com/100044355, dtype: object\n",
      "\n",
      "Localizando una celda específica por su su index y columna: AHTD - Bentonville\n"
     ]
    },
    {
     "name": "stderr",
     "output_type": "stream",
     "text": [
      "C:\\Users\\Usuario\\AppData\\Local\\Temp\\ipykernel_7792\\1344631179.py:10: FutureWarning: Series.__getitem__ treating keys as positions is deprecated. In a future version, integer keys will always be treated as labels (consistent with DataFrame behavior). To access a value by position, use `ser.iloc[pos]`\n",
      "  print(\"\\nLocalizando una celda específica por su su index y columna:\", data.iloc[1][5])\n"
     ]
    }
   ],
   "source": [
    "data = pd.read_csv(\"./csvs/Order_v3.csv\", index_col= \"orderIdentifier\", encoding = \"latin1\")\n",
    "#Accede a los datos de la fila 24\n",
    "data.loc[100055006]\n",
    "#Resetea el index y accede a los datos de la columna con el index 3\n",
    "data = data.reset_index()\n",
    "#print(\"Columna con index 3: \\n\",data.loc[3])\n",
    "#Vuelve a establecer una columna como index (sourceLink). Localiza una celda específica por etiqueta y una celda específica por index de fila y columna.\n",
    "data = data.set_index(\"sourceLink\")\n",
    "print(\"Localizando una celda específica por su etiqueta: \\n\", data.loc[\"http://lighttree.com/100044355\"])\n",
    "print(\"\\nLocalizando una celda específica por su su index y columna:\", data.iloc[1][5])\n",
    "\n",
    "\n"
   ]
  },
  {
   "cell_type": "markdown",
   "metadata": {},
   "source": [
    "🔴 Aplicar funciones en un DataFrame o Serie\n",
    "\n",
    "Tanto `.apply()` como `.map()` en pandas se utilizan para **aplicar funciones a los datos de un DataFrame o una Serie**, pero tienen diferencias importantes en su uso:\n",
    "\n",
    "Utilizamos `map()` de la siguiente forma:\n",
    "\n",
    "- Solo se usa en **Series** (no en DataFrames).\n",
    "- Se aplica elemento por elemento.\n",
    "- Puede aceptar:\n",
    "    - Una **función** (lambda u otra función definida).\n",
    "    - Un **diccionario** para hacer sustituciones.\n",
    "    - Una **Serie** para realizar mapeos basados en valores"
   ]
  },
  {
   "cell_type": "code",
   "execution_count": 33,
   "metadata": {},
   "outputs": [
    {
     "name": "stdout",
     "output_type": "stream",
     "text": [
      "0     2\n",
      "1     4\n",
      "2     6\n",
      "3     8\n",
      "4    10\n",
      "dtype: int64\n",
      "0    alpha\n",
      "1      NaN\n",
      "2    gamma\n",
      "3      NaN\n",
      "dtype: object\n"
     ]
    }
   ],
   "source": [
    "# LO PODEMOS UTILIZAR PARA APLICAR VALORES EN SERIES: \n",
    "s = pd.Series([1, 2, 3, 4, 5])\n",
    "\n",
    "# Multiplicar cada elemento por 2\n",
    "s_double = s.map(lambda x: x * 2)\n",
    "print(s_double)\n",
    "\n",
    "# O PARA REEMPLAZAR VALORES:\n",
    "s = pd.Series(['a', 'b', 'c', 'd'])\n",
    "mapping_dict = {'a': 'alpha', 'x': 'beta', 'c': 'gamma'} # Si una clave no está en el diccionario devuelve NaN\n",
    "\n",
    "s_mapped = s.map(mapping_dict)\n",
    "print(s_mapped)"
   ]
  },
  {
   "cell_type": "markdown",
   "metadata": {},
   "source": [
    "Por otro lado, con `apply()`:\n",
    "\n",
    "- Puede usarse en **Series y DataFrames**.\n",
    "- En una **Serie**, funciona similar a `map()`, pero permite funciones más complejas.\n",
    "- En un **DataFrame**, puede aplicarse a filas o columnas completas (`axis=0` para columnas, `axis=1` para filas).\n",
    "- Permite aplicar funciones que necesitan múltiples columnas o realizar cálculos más avanzados."
   ]
  },
  {
   "cell_type": "code",
   "execution_count": 34,
   "metadata": {},
   "outputs": [
    {
     "name": "stdout",
     "output_type": "stream",
     "text": [
      "0     1\n",
      "1     4\n",
      "2     9\n",
      "3    16\n",
      "4    25\n",
      "dtype: int64\n",
      "   A  B  Suma\n",
      "0  1  4     5\n",
      "1  2  5     7\n",
      "2  3  6     9\n",
      "   A   B  Suma\n",
      "0  1  16    25\n",
      "1  4  25    49\n",
      "2  9  36    81\n",
      "   A   B  Suma\n",
      "0  1   8    10\n",
      "1  4  10    14\n",
      "2  9  12    18\n"
     ]
    }
   ],
   "source": [
    "# APPLY() EN UNA SERIE\n",
    "s = pd.Series([1, 2, 3, 4, 5])\n",
    "\n",
    "# Elevar al cuadrado cada elemento\n",
    "s_applied = s.apply(lambda x: x ** 2)\n",
    "print(s_applied)\n",
    "\n",
    "# APPLY() EN UNA DATAFRAME\n",
    "\n",
    "df = pd.DataFrame({'A': [1, 2, 3], 'B': [4, 5, 6]})\n",
    "\n",
    "# Aplicar una función a cada fila (sumar A y B)\n",
    "df['Suma'] = df.apply(lambda row: row['A'] + row['B'], axis=1)\n",
    "print(df)\n",
    "\n",
    "# Aplicar una función a cada columna (elevar al cuadrado)\n",
    "df_applied = df.apply(lambda col: col**2, axis=0)\n",
    "print(df_applied)\n",
    "\n",
    "# Aplicar funciones diferentes a cada columna\n",
    "df_transformed = df.apply(lambda col: col**2 if col.name == 'A' else col*2)\n",
    "print(df_transformed)\n"
   ]
  }
 ],
 "metadata": {
  "kernelspec": {
   "display_name": ".venv",
   "language": "python",
   "name": "python3"
  },
  "language_info": {
   "codemirror_mode": {
    "name": "ipython",
    "version": 3
   },
   "file_extension": ".py",
   "mimetype": "text/x-python",
   "name": "python",
   "nbconvert_exporter": "python",
   "pygments_lexer": "ipython3",
   "version": "3.10.0"
  }
 },
 "nbformat": 4,
 "nbformat_minor": 2
}
