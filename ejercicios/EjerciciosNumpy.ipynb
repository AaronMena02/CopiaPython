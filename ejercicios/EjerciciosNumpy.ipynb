{
 "cells": [
  {
   "cell_type": "markdown",
   "metadata": {},
   "source": [
    "### **3. Indexación y selección en arrays con Numpy**"
   ]
  },
  {
   "cell_type": "code",
   "execution_count": 2,
   "metadata": {},
   "outputs": [],
   "source": [
    "import numpy as np\n"
   ]
  },
  {
   "cell_type": "code",
   "execution_count": 31,
   "metadata": {},
   "outputs": [
    {
     "name": "stdout",
     "output_type": "stream",
     "text": [
      "[ 1  2  3  4  5  6  7  8  9 10]\n",
      "[[1 2 3]\n",
      " [4 5 6]\n",
      " [7 8 9]]\n",
      "Primer elemento 1d: 1\n",
      "Último elemento 1d: 10\n",
      "Primer elemento primera fila 2D: 1\n",
      "Último elemento última fila 2D: 9\n",
      "Elemento ubicado segunda fila tercera columna 2D: 6\n",
      "Slice primera fila completa 2d: [1 2 3]\n",
      "Slice segunda columna completa 2d: [2 5 8]\n"
     ]
    }
   ],
   "source": [
    "\n",
    "\"\"\"CREACIÓN\"\"\"\n",
    "#Array 1d del 1 al 10\n",
    "array_1d = np.arange(1, 11)\n",
    "print(array_1d)\n",
    "\n",
    "#Array 2D tamaño 3x3\n",
    "array_2d= np.arange(1,10).reshape(3,3)\n",
    "print(array_2d)\n",
    "\n",
    "\"\"\"INDEXACIÓN\"\"\"\n",
    "print(\"Primer elemento 1d:\",array_1d[0])\n",
    "print(\"Último elemento 1d:\",array_1d[-1])\n",
    "print(\"Primer elemento primera fila 2D:\",array_2d[0,0])\n",
    "print(\"Último elemento última fila 2D:\",array_2d[-1,-1])\n",
    "print(\"Elemento ubicado segunda fila tercera columna 2D:\", array_2d[1,2])\n",
    "\n",
    "\"\"\"Selección de filas y columnas\"\"\"\n",
    "print(\"Slice primera fila completa 2d:\", array_2d[0,:])\n",
    "print(\"Slice segunda columna completa 2d:\", array_2d[:,1])"
   ]
  },
  {
   "cell_type": "markdown",
   "metadata": {},
   "source": [
    "### **4. Explorando una imagen en formato de Array 3D**"
   ]
  },
  {
   "cell_type": "code",
   "execution_count": 9,
   "metadata": {},
   "outputs": [
    {
     "name": "stdout",
     "output_type": "stream",
     "text": [
      "[[[244 207  60  48]\n",
      "  [134 231  11 162]\n",
      "  [ 40 214 130 180]\n",
      "  [165  10 199  36]]\n",
      "\n",
      " [[152  13 224  18]\n",
      "  [ 47 100 105 142]\n",
      "  [239  49  19  47]\n",
      "  [ 97 253 185 248]]\n",
      "\n",
      " [[169 176   6 249]\n",
      "  [ 10 228 195  14]\n",
      "  [169 168  33 238]\n",
      "  [113  27 252  43]]]\n",
      "\n",
      "Primer pixel: [244 207  60  48]\n",
      "Último pixel: [113  27 252  43]\n",
      "Tercera columna de la segunda fila 11\n",
      "\n",
      "Primera fila de la imagen [[244 207  60  48]\n",
      " [152  13 224  18]\n",
      " [169 176   6 249]]\n",
      "\\Valores del canal azul [[169 176   6 249]\n",
      " [ 10 228 195  14]\n",
      " [169 168  33 238]\n",
      " [113  27 252  43]]\n",
      "Recorte central de la imagen [[100 105]\n",
      " [ 49  19]]\n"
     ]
    }
   ],
   "source": [
    "array_3d = np.random.randint(0,256, size=(3, 4, 4))\n",
    "print(array_3d)\n",
    "\n",
    "\"\"\"INDEXACIÓN\"\"\"\n",
    "print(\"\\nPrimer pixel:\", array_3d[0][0])\n",
    "print(\"Último pixel:\", array_3d[-1][-1])\n",
    "print(\"Tercera columna de la segunda fila\", array_3d[0][1,2])\n",
    "\n",
    "\"\"\"SLICING\"\"\"\n",
    "print(\"\\nPrimera fila de la imagen\", array_3d[:, 0])\n",
    "print(\"\\Valores del canal azul\", array_3d[2])\n",
    "print(\"Recorte central de la imagen\", array_3d[1, 1:3, 1:3])"
   ]
  },
  {
   "cell_type": "markdown",
   "metadata": {},
   "source": [
    "### **5. Distancia euclidiana con fórmula optimizada**"
   ]
  },
  {
   "cell_type": "code",
   "execution_count": 12,
   "metadata": {},
   "outputs": [
    {
     "name": "stdout",
     "output_type": "stream",
     "text": [
      "Distancia: 2.23606797749979\n"
     ]
    }
   ],
   "source": [
    "p1 = np.array([[[[[2]]]], [[[[3]]]], [[[[5]]]], [[[[7]]]], [[[[11]]]]])\n",
    "p2 = np.array([[[[[1]]]], [[[[4]]]], [[[[6]]]], [[[[8]]]], [[[[10]]]]])\n",
    "distancia = np.linalg.norm(p1 - p2)\n",
    "print(\"Distancia:\", distancia)"
   ]
  },
  {
   "cell_type": "markdown",
   "metadata": {},
   "source": [
    "### **6. Análisis del rendimiento académico utilizando normas L1 y L2**"
   ]
  },
  {
   "cell_type": "code",
   "execution_count": null,
   "metadata": {},
   "outputs": [
    {
     "name": "stdout",
     "output_type": "stream",
     "text": [
      "Sumatorio calificaciones: [3.12307762 3.10621962 3.1135639  3.10169671 3.10536531 3.13275609\n",
      " 3.13597111 3.1423133  3.13872561 3.11719673 3.13599435 3.11880261\n",
      " 3.12132529 3.14103949 3.14338727 3.12954772 3.14480191 3.13316674\n",
      " 3.119699   3.13444775 3.13254857 3.13450148 3.14348648 3.13482883\n",
      " 3.14166543 3.13981624 3.14097437 3.14838834 3.13158412 3.14581251\n",
      " 3.14405674 3.132219   3.13100031 3.14549032 3.14201171 3.13572714\n",
      " 3.12369819 3.1431708  3.13795456 3.13635672 3.14010203 3.14693417\n",
      " 3.12430286 3.14507978 3.14378806 3.13133026 3.1376334  3.13943549\n",
      " 3.1393785 ]\n",
      "Sumatorio asignaturas: [6.94456999 6.94026697 6.94482158 6.93168944 6.93326078 6.93189681\n",
      " 6.93672459 6.91546516 6.93526259 6.92004648]\n"
     ]
    }
   ],
   "source": [
    "# Datos de entrada\n",
    "calificaciones = np.array(\n",
    "    [\n",
    "        [88, 78, 64, 92, 57, 70, 88, 68, 72, 60],\n",
    "        [60, 73, 85, 89, 73, 52, 71, 51, 73, 93],\n",
    "        [79, 87, 51, 70, 82, 61, 71, 93, 74, 98],\n",
    "        [76, 91, 77, 65, 64, 96, 93, 52, 86, 56],\n",
    "        [70, 58, 88, 67, 53, 74, 63, 99, 58, 75],\n",
    "        [82, 79, 91, 88, 66, 78, 79, 63, 59, 89],\n",
    "        [56, 66, 73, 77, 75, 80, 70, 64, 88, 60],\n",
    "        [80, 62, 79, 85, 92, 72, 80, 69, 78, 66],\n",
    "        [88, 90, 69, 77, 66, 72, 65, 73, 92, 81],\n",
    "        [60, 80, 69, 94, 81, 88, 93, 60, 58, 79],\n",
    "        [78, 72, 74, 81, 67, 93, 60, 72, 85, 92],\n",
    "        [86, 90, 70, 64, 93, 58, 61, 95, 79, 84],\n",
    "        [85, 77, 91, 85, 61, 63, 58, 68, 65, 90],\n",
    "        [71, 79, 69, 58, 75, 78, 62, 82, 77, 59],\n",
    "        [87, 76, 72, 68, 88, 65, 75, 90, 69, 79],\n",
    "        [78, 71, 94, 67, 72, 88, 58, 79, 91, 67],\n",
    "        [67, 64, 85, 81, 70, 84, 79, 73, 62, 77],\n",
    "        [90, 61, 60, 91, 72, 89, 77, 75, 76, 83],\n",
    "        [94, 83, 80, 59, 65, 75, 63, 92, 68, 60],\n",
    "        [80, 81, 68, 95, 72, 93, 89, 59, 81, 85],\n",
    "        [88, 63, 90, 77, 69, 72, 85, 78, 61, 93],\n",
    "        [91, 65, 79, 92, 63, 74, 87, 70, 92, 85],\n",
    "        [92, 80, 76, 72, 81, 87, 64, 74, 70, 67],\n",
    "        [72, 83, 91, 58, 67, 88, 81, 76, 74, 92],\n",
    "        [84, 91, 81, 77, 80, 63, 70, 79, 89, 65],\n",
    "        [66, 65, 77, 58, 79, 61, 86, 72, 64, 74],\n",
    "        [94, 74, 83, 89, 77, 68, 81, 92, 70, 68],\n",
    "        [73, 72, 82, 80, 79, 64, 69, 60, 76, 79],\n",
    "        [82, 79, 75, 89, 85, 81, 62, 64, 60, 92],\n",
    "        [87, 88, 80, 74, 85, 90, 75, 68, 68, 71],\n",
    "        [81, 79, 85, 76, 64, 85, 71, 77, 67, 93],\n",
    "        [82, 89, 77, 72, 66, 84, 92, 60, 67, 65],\n",
    "        [90, 63, 94, 67, 88, 93, 79, 64, 88, 80],\n",
    "        [81, 90, 72, 76, 74, 93, 88, 84, 80, 65],\n",
    "        [86, 75, 67, 81, 93, 79, 91, 64, 78, 74],\n",
    "        [69, 85, 90, 91, 60, 76, 84, 78, 74, 64],\n",
    "        [67, 91, 94, 78, 81, 73, 62, 67, 60, 92],\n",
    "        [85, 79, 73, 60, 85, 90, 82, 75, 74, 68],\n",
    "        [91, 83, 77, 92, 74, 68, 64, 92, 90, 92],\n",
    "        [65, 93, 88, 82, 92, 67, 79, 68, 81, 93],\n",
    "        [92, 79, 90, 92, 72, 80, 61, 75, 86, 90],\n",
    "        [80, 67, 76, 84, 92, 90, 79, 93, 74, 88],\n",
    "        [60, 79, 90, 93, 64, 61, 85, 76, 92, 72],\n",
    "        [88, 67, 72, 64, 80, 90, 79, 75, 85, 81],\n",
    "        [79, 92, 75, 72, 92, 81, 79, 70, 68, 68],\n",
    "        [65, 60, 79, 89, 79, 82, 86, 64, 60, 81],\n",
    "        [92, 81, 60, 79, 94, 78, 80, 91, 85, 68],\n",
    "        [79, 64, 81, 72, 68, 75, 80, 94, 79, 61],\n",
    "        [79, 94, 64, 89, 80, 85, 74, 82, 65, 91],\n",
    "    ]\n",
    ")\n",
    "\n",
    "\n",
    "def calificaciones_l2(datos):\n",
    "    \"\"\"\n",
    "    Normaliza cada fila de la matriz usando la norma L2.\n",
    "\n",
    "    Parámetros:\n",
    "    datos (ndarray): Matriz con los valores a normalizar.\n",
    "\n",
    "    Retorna:\n",
    "    ndarray: Matriz con los valores normalizados.\n",
    "    \"\"\"\n",
    "    return datos / np.linalg.norm(datos, axis=1, keepdims=True)\n",
    "    # Cuando usamos axis=1 en una función de NumPy, estamos indicando que la operación se realizará a lo largo de las filas, es decir, afecta a las columnas\n",
    "\n",
    "\n",
    "def asignaturas_l2(datos):\n",
    "    \"\"\"\n",
    "    Normaliza cada fila de la matriz usando la norma L2.\n",
    "\n",
    "    Parámetros:\n",
    "    datos (ndarray): Matriz con los valores a normalizar.\n",
    "\n",
    "    Retorna:\n",
    "    ndarray: Matriz con los valores normalizados.\n",
    "    \"\"\"\n",
    "    return datos / np.linalg.norm(datos, axis=0, keepdims=True)\n",
    "\n",
    "\n",
    "# Normalización de las calificaciones\n",
    "calificaciones_normalizadas = calificaciones_l2(calificaciones)\n",
    "sumatorio = np.sum(calificaciones_normalizadas, axis=1)\n",
    "print(\"Sumatorio calificaciones:\", sumatorio)\n",
    "\"\"\" for i, calificacion in enumerate(calificaciones_normalizadas):\n",
    "    print(f\"Alumno {i+1}: {calificacion}\") \"\"\"\n",
    "\n",
    "\n",
    "# Normalización de las asignaturas\n",
    "asignaturas_normalizadas = asignaturas_l2(calificaciones)\n",
    "\n",
    "sumatorio_filas = np.sum(asignaturas_normalizadas, axis=0)\n",
    "print(\"Sumatorio asignaturas:\", sumatorio_filas)\n"
   ]
  },
  {
   "cell_type": "markdown",
   "metadata": {},
   "source": [
    "- **¿Por qué la norma L2 nos da una idea de la magnitud total de los valores, penalizando más las notas altas?**\n",
    "La norma L2 mide la magnitud total de un conjunto de valores sumando sus cuadrados y sacando la raíz cuadrada. Penaliza más los valores grandes porque al elevarlos al cuadrado, su impacto crece mucho más rápido que los valores pequeños.\n",
    "\n",
    "- **¿Cómo afecta keepdims=True en las operaciones realizadas?**\n",
    "Asegura que la respuesta conserve las dimensiones originales en lugar de reducirlas."
   ]
  },
  {
   "cell_type": "markdown",
   "metadata": {},
   "source": [
    "### **7. Producto cruzado para calcular variaciones en la ruta de un avión**"
   ]
  },
  {
   "cell_type": "code",
   "execution_count": 10,
   "metadata": {},
   "outputs": [
    {
     "name": "stdout",
     "output_type": "stream",
     "text": [
      "Producto cruzado: [ 4 -3 -7]\n"
     ]
    }
   ],
   "source": [
    "vuelo_previsto = [3, 4, 0]\n",
    "vuelo_real = [4, 3, 1]\n",
    "\n",
    "producto_cruzado = np.cross(vuelo_previsto, vuelo_real)\n",
    "print(\"Producto cruzado:\", producto_cruzado)\n"
   ]
  },
  {
   "cell_type": "markdown",
   "metadata": {},
   "source": [
    "**¿En qué dirección ocurre la desviación?**\n",
    "El componente del eje x (4) indica que hay una desviación relativamente leve a la derecha en ese eje. Para el eje y, hay una desviación significativa (-3) al igual que en el eje Z donde la desviación es muy relevante (-7).\n",
    "\n",
    "**¿Cómo se podría corregir la trayectoria del avión basándonos en este cálculo?**\n",
    "El avión debe moverse en la dirección hacia la izquierda en el eje 𝑥, hacia arriba en el eje Y además de hacia arriba en el eje Z"
   ]
  },
  {
   "cell_type": "markdown",
   "metadata": {},
   "source": [
    "### **8. Análisis del rendimiento de un atleta con producto escalar**"
   ]
  },
  {
   "cell_type": "code",
   "execution_count": 21,
   "metadata": {},
   "outputs": [
    {
     "name": "stdout",
     "output_type": "stream",
     "text": [
      "Producto escalar 44.5\n"
     ]
    }
   ],
   "source": [
    "tiempos = np.array([11, 22, 50, 110, 250])\n",
    "importancia = np.array([0.4, 0.3, 0.2, 0.1, 0.05])\n",
    "\n",
    "producto_escalar = np.dot(tiempos, importancia)\n",
    "print(\"Producto escalar\", producto_escalar)"
   ]
  },
  {
   "cell_type": "markdown",
   "metadata": {},
   "source": [
    "**Explica qué significa el resultado obtenido en términos del rendimiento del atleta**\n",
    "El resultado obtenido (44.5) representa un índice de rendimiento del atleta que combina sus tiempos en cada prueba con la importancia asignada a cada una. Un valor más bajo del índice indica un mejor rendimiento.\n",
    "\n",
    "**¿Cómo afectaría al resultado si el atleta mejora su tiempo en la prueba de 100m?**\n",
    "Como la prueba de 100m tiene la mayor importancia (0.4), mejorar su tiempo reduciría significativamente el índice de rendimiento, reflejando una mejora general en su desempeño.\n",
    "\n",
    "**¿Qué pasaría si le damos más importancia a las pruebas de resistencia?**\n",
    "El resultado dependería más de los tiempos en pruebas largas (800m y 1500m), por lo que si el atleta tiene tiempos altos en estas distancias, su índice de rendimiento aumentaría.\n",
    "\n",
    "**¿Cómo se podría utilizar esta métrica para comparar a diferentes atletas?**\n",
    "Se puede comparar fácilmente a los atletas usando el índice calculado: un valor menor indica un mejor rendimiento por lo que sería sencillo clasificarlos."
   ]
  },
  {
   "cell_type": "markdown",
   "metadata": {},
   "source": [
    "### **9. Normalización de datos con la norma L2 en rendimiento deportivo**"
   ]
  },
  {
   "cell_type": "code",
   "execution_count": 19,
   "metadata": {},
   "outputs": [
    {
     "name": "stdout",
     "output_type": "stream",
     "text": [
      "Jugador 1: Goles:0.03290221417307103 Asistencias: 0.02303154992114972 Pases = 0.9870664251921308 Regates = 0.08225553543267757Tiros a Puerta = 0.13160885669228412\n",
      "Jugador 2: Goles:0.058288150543410064 Asistencias: 0.03885876702894004 Pases = 0.971469175723501 Regates = 0.11657630108682013Tiros a Puerta = 0.19429383514470022\n",
      "Jugador 3: Goles:0.01765627426015132 Asistencias: 0.04237505822436317 Pases = 0.988751358568474 Regates = 0.07062509704060528Tiros a Puerta = 0.12359391982105924\n",
      "Jugador 4: Goles:0.025572159912226913 Asistencias: 0.019179119934170187 Pases = 0.990921196598793 Regates = 0.047947799835425464Tiros a Puerta = 0.12146775958307784\n",
      "Jugador 5: Goles:0.043547487891216305 Asistencias: 0.032660615918412225 Pases = 0.9798184775523668 Regates = 0.1016108050795047Tiros a Puerta = 0.16330307959206114\n",
      "1º: 1.3794862295273713 2º: 1.320940466033561 3º: 1.2568645814113133 4º: 1.243001707914653 5º: 1.2050880358636933\n"
     ]
    }
   ],
   "source": [
    "datos_jugadores = np.array([\n",
    "    [10, 7, 300, 25, 40],  \n",
    "    [15, 10, 250, 30, 50], \n",
    "    [5, 12, 280, 20, 35],   \n",
    "    [8, 6, 310, 15, 38],   \n",
    "    [12, 9, 270, 28, 45]   \n",
    "])\n",
    "\n",
    "def normalizacion_l2(datos):\n",
    "    \"\"\"\n",
    "    Normaliza cada fila de la matriz usando la norma L2.\n",
    "\n",
    "    Parámetros:\n",
    "    datos (ndarray): Matriz con los valores a normalizar.\n",
    "\n",
    "    Retorna:\n",
    "    ndarray: Matriz con los valores normalizados.\n",
    "    \"\"\"\n",
    "    return datos / np.linalg.norm(datos, axis=1, keepdims=True)\n",
    "datos_normalizados = datos_jugadores / np.linalg.norm(datos_jugadores, axis = 1, keepdims=True)\n",
    "for i, dato in enumerate(datos_normalizados):\n",
    "    print(f\"Jugador {i+1}: Goles:{dato[0]} Asistencias: {dato[1]} Pases = {dato[2]} Regates = {dato[3]}\\\n",
    "Tiros a Puerta = {dato[4]}\")\n",
    "    \n",
    "rendimientos = np.sum(datos_normalizados, axis=1)\n",
    "rendimientos_ordenados = np.sort(rendimientos)[::-1]\n",
    "print(f\"1º: {rendimientos_ordenados[0]} 2º: {rendimientos_ordenados[1]} 3º: {rendimientos_ordenados[2]} 4º:\\\n",
    " {rendimientos_ordenados[3]} 5º: {rendimientos_ordenados[4]}\")\n",
    "\n",
    "\n"
   ]
  },
  {
   "cell_type": "markdown",
   "metadata": {},
   "source": [
    "**¿Cómo cambian los valores después de la normalización?**\n",
    "Se convierten en valores proporcionales del 0 al 1, sus cuadrados de cada fila es 1.\n",
    "\n",
    "**¿Por qué la normalización L2 es útil cuando los datos tienen escalas diferentes?**\n",
    "Porque ajusta todos los valores a una escala común, evitando que atributos con valores grandes (como pases) dominen sobre otros más pequeños (como goles).\n",
    "\n",
    "**¿Qué pasaría si normalizamos por **columnas (axis=0)** en lugar de por filas?**\n",
    "Si normalizamos por columnas (axis=0), podríamos comparar a los jugadores en cada atributo específico, pero perderíamos la visión completa de su rendimiento individual."
   ]
  },
  {
   "cell_type": "markdown",
   "metadata": {},
   "source": [
    "### **10. Hablando de pilotos de carreras**"
   ]
  },
  {
   "cell_type": "code",
   "execution_count": 29,
   "metadata": {},
   "outputs": [
    {
     "name": "stdout",
     "output_type": "stream",
     "text": [
      "Rendimientos reorganizados:\n",
      " [[ 3  2  5  5  5  9 10  2  9  5]\n",
      " [ 5  6  7  6  3  9  7  4 10  2]\n",
      " [10 10  6  8  4  6  1 10  9  3]\n",
      " [ 9  8  1  2  3  3  4  6  1  8]\n",
      " [ 2  2  1  5  3  5  9  4  9  3]]\n",
      "Conversión a 1d:\n",
      " [ 3  2  5  5  5  9 10  2  9  5  5  6  7  6  3  9  7  4 10  2 10 10  6  8\n",
      "  4  6  1 10  9  3  9  8  1  2  3  3  4  6  1  8  2  2  1  5  3  5  9  4\n",
      "  9  3]\n",
      "Promedio de posiciones por piloto: [4.  7.  5.4 6.4 7.6 5.8 4.6 4.4 2.6 6. ]\n",
      "Promedio de posiciones por carrera : [6.1 5.9 4.6 6.4 3.9]\n",
      "Promedio de posiciones por piloto (penalizado): [6.  9.  7.4 8.4 9.6 7.8 6.6 6.4 4.6 8. ]\n",
      "Promedio de posiciones por carrera (penalizado): [8.1 7.9 6.6 8.4 5.9]\n",
      "Producto escalar entre piloto 1 y piloto 2: 127\n",
      "Producto cruzado entre piloto 1 y piloto 2 (primeras 3 carreras): [-46  39  12]\n",
      "El producto cruzado [-46  39  12] indica que en la primera carrera el piloto 1 tuvo peor rendimiento que el 2 a diferencia de las otras dos carreras, donde el piloto 1 tuvo mejor rendimiento, especialmente en la segunda.\n",
      "Rendimiento normalizado:\n",
      " [[0.31980107 0.21320072 0.53300179 0.53300179 0.53300179]\n",
      " [0.52758934 0.58621038 0.11724208 0.52758934 0.29310519]\n",
      " [0.40160966 0.4819316  0.56225353 0.4819316  0.2409658 ]\n",
      " [0.56920998 0.44271887 0.25298221 0.63245553 0.12649111]\n",
      " [0.56254395 0.56254395 0.33752637 0.45003516 0.22501758]\n",
      " [0.39823399 0.06637233 0.66372331 0.59735098 0.19911699]\n",
      " [0.71374643 0.63444127 0.07930516 0.15861032 0.23791548]\n",
      " [0.26726124 0.35634832 0.53452248 0.08908708 0.71269665]\n",
      " [0.30499714 0.30499714 0.15249857 0.76249285 0.45749571]\n",
      " [0.34340141 0.61812254 0.27472113 0.61812254 0.20604085]]\n"
     ]
    }
   ],
   "source": [
    "rendimiento_pilotos = np.array([\n",
    "    [3, 2, 5, 5, 5],  \n",
    "    [9, 10, 2, 9, 5], \n",
    "    [5, 6, 7, 6, 3],  \n",
    "    [9, 7, 4, 10, 2],  \n",
    "    [10, 10, 6, 8, 4],  \n",
    "    [6, 1, 10, 9, 3],  \n",
    "    [9, 8, 1, 2, 3],  \n",
    "    [3, 4, 6, 1, 8],  \n",
    "    [2, 2, 1, 5, 3], \n",
    "    [5, 9, 4, 9, 3]   \n",
    "])\n",
    "\n",
    "#Transformación de arrays:\n",
    "rendimientos_reorganizados = rendimiento_pilotos.reshape(5,10)\n",
    "print(\"Rendimientos reorganizados:\\n\",rendimientos_reorganizados)\n",
    "\n",
    "rendimientos_1d = rendimiento_pilotos.ravel()\n",
    "print(\"Conversión a 1d:\\n\", rendimientos_1d)\n",
    "\n",
    "#Operaciones aritméticas\n",
    "media_pilotos = np.sum(rendimiento_pilotos, axis=1) / len(rendimiento_pilotos[0])\n",
    "media_carrera = np.sum(rendimiento_pilotos, axis=0) / len(rendimiento_pilotos)\n",
    "\n",
    "print(\"Promedio de posiciones por piloto:\",media_pilotos)\n",
    "print(\"Promedio de posiciones por carrera :\",media_carrera)\n",
    "\n",
    "penalizacion = 2\n",
    "rendimiento_penalizado = rendimiento_pilotos + penalizacion\n",
    "\n",
    "media_pilotos_penalizado = np.sum(rendimiento_penalizado, axis=1) / len(rendimiento_penalizado[0])\n",
    "media_carrera_penalizado = np.sum(rendimiento_penalizado, axis=0) / len(rendimiento_penalizado)\n",
    "\n",
    "print(\"Promedio de posiciones por piloto (penalizado):\", media_pilotos_penalizado)\n",
    "print(\"Promedio de posiciones por carrera (penalizado):\", media_carrera_penalizado)\n",
    "\n",
    "#Producto escalar\n",
    "piloto_1 = rendimiento_pilotos[0]\n",
    "piloto_2 = rendimiento_pilotos[1]\n",
    "producto_escalar = np.dot(piloto_1, piloto_2)\n",
    "print(\"Producto escalar entre piloto 1 y piloto 2:\", producto_escalar)\n",
    "\n",
    "#Producto cruzado\n",
    "piloto_1_3d = rendimiento_pilotos[0][:3]\n",
    "piloto_2_3d = rendimiento_pilotos[1][:3]\n",
    "producto_cruzado = np.cross(piloto_1_3d, piloto_2_3d)\n",
    "print(\"Producto cruzado entre piloto 1 y piloto 2 (primeras 3 carreras):\", producto_cruzado)\n",
    "print(\"El producto cruzado\", producto_cruzado, \"indica que en la primera carrera el piloto 1 tuvo peor rendimiento que el 2 a diferencia de las \\\n",
    "otras dos carreras, donde el piloto 1 tuvo mejor rendimiento, especialmente en la segunda.\")\n",
    "\n",
    "#Extra: Normalización usando la norma L2\n",
    "rendimiento_normalizado = rendimiento_pilotos / np.linalg.norm(rendimiento_pilotos, axis=1, keepdims=True)\n",
    "print(\"Rendimiento normalizado:\\n\", rendimiento_normalizado)\n"
   ]
  },
  {
   "cell_type": "markdown",
   "metadata": {},
   "source": [
    "### **11. Ejercicio de investigación de Numpy**\n"
   ]
  },
  {
   "cell_type": "markdown",
   "metadata": {},
   "source": [
    "- **¿Qué es NumPy y para qué se utiliza en programación científica?** <br>\n",
    "NumPy, cuyo nombre proviene de \"Numerical Python\", es una biblioteca fundamental para realizar cálculos numéricos en Python. Facilita la manipulación de arrays multidimensionales y proporciona herramientas para llevar a cabo operaciones matemáticas complejas de manera eficiente, lo que la hace ideal para análisis de datos y aplicaciones científicas.\n",
    "\n",
    "- **Historia de NumPy** <br>\n",
    "La historia de NumPy se inicia en 1995 con la creación de Numeric por Jim Hugunin, quien diseñó la primera biblioteca de Python para cálculos numéricos. Posteriormente, en 2005, Travis Oliphant integró las características de Numeric y Numarray, dando origen a NumPy, una solución más optimizada y consistente. NumPy introdujo los arrays multidimensionales (ndarray), acelerando las operaciones mediante código en C y convirtiéndose en la base para bibliotecas como SciPy, Pandas y TensorFlow.\n",
    "\n",
    "- **¿Cuál es la diferencia entre una lista de Python y un array de NumPy?** <br>\n",
    "Las listas en Python pueden contener elementos de distintos tipos y cambian de tamaño dinámicamente, mientras que los arrays de NumPy son estructuras homogéneas por lo que todos sus elementos deben ser del mismo tipo de dato. Los arrays de NumPy están diseñados para realizar cálculos numéricos de manera mucho más rápida y eficiente en comparación con las listas estándar de Python.\n",
    "\n",
    "- **¿Cómo se crea un array en NumPy? Explicar y dar ejemplos de:** <br>\n",
    "     Se pueden crear arrays en NumPy utilizando la función **numpy.array()**. <br>\n",
    "     - **Un array unidimensional.** <br>\n",
    "     `array = np.array([1, 2, 3])` \n",
    "     - **Un array bidimensional.** <br>\n",
    "     `array = np.array([[1, 2, 3], [4, 5, 6]])`<br>\n",
    "     - **Un array de valores inicializados con ceros, unos y valores aleatorios.**<br>\n",
    "     `ceros = np.zeros((2, 4))`<br>\n",
    "     `unos = np.ones((2, 4))`<br>\n",
    "     `random = np.random.rand(2, 4)`<br>\n",
    "\n",
    "- **¿Cómo acceder a los elementos de un array y cómo modificar sus valores?** <br>\n",
    "Los elementos de un array se pueden acceder y cambiar utilizando índices o slicing. <br>\n",
    "     `valor = array[0]`   **Primer elemento**\n",
    "     `valor_final = array[-1]`  **Último elemento**\n",
    "     `valor_matriz = array[0, 1]` **Primera fila, segunda columna**\n",
    "\n",
    "- **¿Qué son los ejes (axis) en un array multidimensional? Explica con ejemplos prácticos.** <br>\n",
    "Los ejes en un array multidimensional indican las dimensiones en las que se pueden realizar operaciones. En un array de una dimensión, solo hay un eje (axis 0), mientras que en un array de dos dimensiones existen dos ejes:\n",
    "\n",
    "**axis=0** se refiere a las filas.<br>\n",
    "**axis=1** se refiere a las columnas.\n",
    "\n",
    "**Ejemplo:**<br>\n",
    "`array = np.array([[1, 2, 3], [4, 5, 6]])`<br>\n",
    "`Suma con axis=0 (columnas):\", np.sum(array, axis=0))` **Daría [5,7,9] como resultado** <br>\n",
    "`Suma con axis=1 (filas):\", np.sum(array, axis=1))`   **Daría [6,15] como resultado**   <br>\n",
    "\n",
    "- **Explica la diferencia entre np.dot() (producto escalar) y np.cross() (producto cruzado).** <br>\n",
    "El producto escalar, calculado con **np.dot()**, proporciona un solo valor numérico que mide la similitud entre dos vectores multiplicando sus componentes y sumándolos.<br>\n",
    "El producto cruzado, calculado con **np.cross()**, genera un nuevo vector perpendicular a los dos vectores originales, útil en aplicaciones geométricas y de física para determinar direcciones ortogonales en el espacio tridimensional.\n",
    "\n",
    "- **¿Cómo se pueden transformar las dimensiones de un array? Explica con ejemplos las funciones reshape() y flatten().** <br>\n",
    "La función **reshape()** permite cambiar las dimensiones de un array, siempre que se mantenga el número total de elementos.<br>\n",
    "\n",
    "**Ejemplo:**<br>\n",
    " `array = np.array([1, 2, 3, 4, 5, 6])`<br>\n",
    " `array_2d = array.reshape(2, 3)`<br>\n",
    " **array_2d nos daría como resultado: [[1 2 3] [4 5 6]]** <br>\n",
    "\n",
    "La función **flatenn()** convierte un array multidimensional en un array unidimensional. <br>\n",
    "**Ejemplo** <br>\n",
    "`array2_d.flatten()` <br>\n",
    " **array2_d pasaría a tener el valor: [1 2 3 4 5 6]** <br>\n",
    "\n",
    "- **¿Qué es Matplotlib y en qué situaciones se usa en programación?** <br>\n",
    "Matplotlib es una biblioteca de visualización de datos en Python que permite crear gráficos en 2D y 3D, como gráficos de líneas, barras y dispersión. Es utilizado tanto en análisis de datos como generación de informes o aplicaciones científicas para representar datos de manera comprensible y visualmente atractiva."
   ]
  },
  {
   "cell_type": "markdown",
   "metadata": {},
   "source": [
    "# 12. Transformación de datos sesgados con raíz cuadrada\n",
    "    \n"
   ]
  },
  {
   "cell_type": "code",
   "execution_count": 3,
   "metadata": {},
   "outputs": [
    {
     "name": "stdout",
     "output_type": "stream",
     "text": [
      "Valores originales:[    1    10   100  1000 10000], valores transformados: [  1.           3.16227766  10.          31.6227766  100.        ]\n"
     ]
    }
   ],
   "source": [
    "    \n",
    "\"\"\" 1. Crea un array de valores que sigan una progresión exponencial, por ejemplo: `[1, 10, 100, 1000, 10000]`.\n",
    "    2. Aplica la transformación de raíz cuadrada utilizando `np.sqrt()`.\n",
    "    3. Imprime los valores originales y los valores transformados.\n",
    "\"\"\"\n",
    "exponenciales = np.array([1,10,100,1000,10000])\n",
    "raiz = np.sqrt(exponenciales)\n",
    "\n",
    "print(f\"Valores originales:{exponenciales}, valores transformados: {raiz}\")"
   ]
  },
  {
   "cell_type": "markdown",
   "metadata": {},
   "source": [
    "# 13. Cálculo del RMSE (Error Cuadrático Medio)"
   ]
  },
  {
   "cell_type": "code",
   "execution_count": null,
   "metadata": {},
   "outputs": [],
   "source": [
    "\"\"\"\n",
    "1. Define dos arrays: uno con valores reales (`y`) y otro con valores predichos (`y_pred`).\n",
    "2. Calcula el error cuadrático medio (MSE) elevando al cuadrado las diferencias entre `y` y `y_pred`, promediando los valores y tomando la raíz cuadrada.\n",
    "3. Imprime el resultado del RMSE.\n",
    "4. Repite el cálculo utilizando la función `root_mean_squared_error` de `sklearn.metrics`.\n",
    "\"\"\"\n",
    "\n",
    "y = np.array([4, 6, 7, 2, 5])\n",
    "y_pred = np.array([1.5, 3.2, 5.4, 7.2, 2.1])\n",
    "\n",
    "error_cuadratico = (y - y_pred) ** 2\n",
    "mse = np.mean(error_cuadratico)\n",
    "rmse = np.sqrt(mse)\n",
    "\n",
    "print(f\"RMSE: {rmse:.2f}\")\n",
    "\n",
    "from sklearn.metrics import root_mean_squared_error \n",
    "rmse_scikit = root_mean_squared_error(y, y_pred)\n",
    "print(f\"RMSE con la función root_mean_squared_error: {rmse_scikit:.2f}\")\n"
   ]
  },
  {
   "cell_type": "markdown",
   "metadata": {},
   "source": [
    "# 14. Cálculo de probabilidades con Softmax"
   ]
  },
  {
   "cell_type": "code",
   "execution_count": null,
   "metadata": {},
   "outputs": [],
   "source": [
    "\"\"\"\n",
    "1. Define un array con tres valores representando logits de un modelo.\n",
    "2. Aplica la función exponencial a cada valor y normaliza dividiendo entre la suma total.\n",
    "3. Imprime las probabilidades resultantes.\n",
    "4. Implementa el cálculo de softmax utilizando las funciones de `scipy.special.softmax` y `sklearn.utils.extmath.softmax`. Compara los resultados.\n",
    "\"\"\"\n",
    "logits = np.array([1.4, 2.1, 0.8])\n",
    "valores_exp = np.exp(logits)\n",
    "probabilidades = valores_exp / np.sum(valores_exp)\n",
    "\n",
    "print(\"Probabilidades:\", probabilidades)\n",
    "\n",
    "#Función softmax de Scikit-learn\n",
    "from sklearn.utils.extmath import softmax  \n",
    "probabilidades_sklearn = softmax(logits.reshape(1, -1))\n",
    "print(\"Probabilidades softmax con Scikit-learn:\", probabilidades_sklearn)\n",
    "\n",
    "#Función softmax de scipy\n",
    "from scipy.special import softmax  \n",
    "probabilidades_scipy = softmax(logits)\n",
    "print(\"Probabilidades softmax con Scipy:\", probabilidades_scipy)\n",
    "\n",
    "\n",
    "\n"
   ]
  }
 ],
 "metadata": {
  "kernelspec": {
   "display_name": ".venv",
   "language": "python",
   "name": "python3"
  },
  "language_info": {
   "codemirror_mode": {
    "name": "ipython",
    "version": 3
   },
   "file_extension": ".py",
   "mimetype": "text/x-python",
   "name": "python",
   "nbconvert_exporter": "python",
   "pygments_lexer": "ipython3",
   "version": "3.10.0"
  }
 },
 "nbformat": 4,
 "nbformat_minor": 2
}
